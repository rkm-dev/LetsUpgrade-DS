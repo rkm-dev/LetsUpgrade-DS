{
 "cells": [
  {
   "cell_type": "markdown",
   "metadata": {},
   "source": [
    "# Day 2 - Assignment"
   ]
  },
  {
   "cell_type": "markdown",
   "metadata": {},
   "source": [
    "#### Q1. Create an empty list. Accept 10 numbers from the user and append to it the list if it is an even number."
   ]
  },
  {
   "cell_type": "code",
   "execution_count": 6,
   "metadata": {},
   "outputs": [
    {
     "name": "stdout",
     "output_type": "stream",
     "text": [
      "Enter number 1 :22\n",
      "Enter number 2 :45\n",
      "Enter number 3 :6\n",
      "Enter number 4 :67\n",
      "Enter number 5 :8\n",
      "Enter number 6 :68\n",
      "Enter number 7 :90\n",
      "Enter number 8 :80\n",
      "Enter number 9 :78\n",
      "Enter number 10 :35\n",
      "Even numbers entered by the user : 22 6 8 68 90 80 78 "
     ]
    }
   ],
   "source": [
    "lst = []\n",
    "for i in range(10):\n",
    "    c = int(input(f\"Enter number {i+1} :\"))\n",
    "    if(c%2==0):\n",
    "        lst.append(c)\n",
    "print(\"Even numbers entered by the user : \", end=\"\")\n",
    "for i in lst:\n",
    "    print(i, end=\" \")"
   ]
  },
  {
   "cell_type": "markdown",
   "metadata": {},
   "source": [
    "#### Q2. Create a notebook on LIST COMPREHENSION. This exercise is to put you in a Self learning mode"
   ]
  },
  {
   "cell_type": "code",
   "execution_count": 8,
   "metadata": {},
   "outputs": [
    {
     "name": "stdout",
     "output_type": "stream",
     "text": [
      "['L', 'e', 't', 's', 'U', 'p', 'g', 'r', 'a', 'd', 'e']\n"
     ]
    }
   ],
   "source": [
    "letters = [x for x in 'LetsUpgrade']\n",
    "print(letters)"
   ]
  },
  {
   "cell_type": "markdown",
   "metadata": {},
   "source": [
    "#### Q3. In this assignment, given a number n, you have to write a program that generates a dictionary d which contains (i, i*i), where i is from 1 to n (both included). Then you have to just print this dictionary d."
   ]
  },
  {
   "cell_type": "code",
   "execution_count": 12,
   "metadata": {},
   "outputs": [
    {
     "name": "stdout",
     "output_type": "stream",
     "text": [
      "8\n"
     ]
    },
    {
     "data": {
      "text/plain": [
       "{1: 1, 2: 4, 3: 9, 4: 16, 5: 25, 6: 36, 7: 49, 8: 64}"
      ]
     },
     "execution_count": 12,
     "metadata": {},
     "output_type": "execute_result"
    }
   ],
   "source": [
    "d = {i:i*i for i in range(1,int(input())+1)}\n",
    "d"
   ]
  },
  {
   "cell_type": "markdown",
   "metadata": {},
   "source": [
    "#### Q4. Write a program to compute the distance between the current position after a sequence of movement and original point. If the distance is a float, then just print the nearest integer (use round() function for that and then convert it into an integer)."
   ]
  },
  {
   "cell_type": "code",
   "execution_count": 16,
   "metadata": {},
   "outputs": [
    {
     "name": "stdout",
     "output_type": "stream",
     "text": [
      "4\n",
      "UP 5\n",
      "DOWN 3\n",
      "LEFT 3\n",
      "RIGHT 2\n",
      "\n",
      " 2\n"
     ]
    }
   ],
   "source": [
    "import math\n",
    "\n",
    "pos = {'x': 0,'y': 0}\n",
    "\n",
    "for i in range(int(input())):\n",
    "    str1 = input()\n",
    "    d,s = str1.split(\" \")\n",
    "    s = int(s)\n",
    "\n",
    "    if d == \"UP\":\n",
    "        pos[\"y\"] += s\n",
    "    elif d == \"DOWN\":\n",
    "        pos[\"y\"] -= s\n",
    "    elif d == \"LEFT\":\n",
    "        pos[\"x\"] -= s\n",
    "    elif d == \"RIGHT\":\n",
    "        pos[\"x\"] += s\n",
    "\n",
    "print(\"\\n\", int(round(math.sqrt(pos['x']**2 + pos['y']**2))))\n",
    "\n"
   ]
  }
 ],
 "metadata": {
  "kernelspec": {
   "display_name": "Python 3",
   "language": "python",
   "name": "python3"
  },
  "language_info": {
   "codemirror_mode": {
    "name": "ipython",
    "version": 3
   },
   "file_extension": ".py",
   "mimetype": "text/x-python",
   "name": "python",
   "nbconvert_exporter": "python",
   "pygments_lexer": "ipython3",
   "version": "3.7.7"
  }
 },
 "nbformat": 4,
 "nbformat_minor": 4
}
